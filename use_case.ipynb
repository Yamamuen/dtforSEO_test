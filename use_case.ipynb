{
 "cells": [
  {
   "cell_type": "markdown",
   "metadata": {},
   "source": [
    "# Testing how DataforCEO Keywords API works\n",
    "\n",
    "23.01.2024 - Enzo Yamamura"
   ]
  },
  {
   "cell_type": "markdown",
   "metadata": {},
   "source": [
    "## Credentials and libs"
   ]
  },
  {
   "cell_type": "code",
   "execution_count": 1,
   "metadata": {},
   "outputs": [],
   "source": [
    "from dotenv import load_dotenv\n",
    "from client import RestClient\n",
    "import pandas as pd\n",
    "import plotly.express as px\n",
    "import datetime\n",
    "import os\n",
    "\n",
    "load_dotenv()\n",
    "\n",
    "# Data for SEO credentials\n",
    "login = os.getenv(\"login\")\n",
    "password = os.getenv(\"password\")"
   ]
  },
  {
   "cell_type": "markdown",
   "metadata": {},
   "source": [
    "## Post Request"
   ]
  },
  {
   "cell_type": "markdown",
   "metadata": {},
   "source": [
    "**Use Case:**\n",
    "\n",
    " \"...oito SUVs compactos com preços entre R$ 140.000 e R$ 170.000 – a oferta do segmento contempla uma faixa bem mais ampla, considerando versões e conteúdos...\"\n",
    "\n",
    " \"Participam: Chevrolet Tracker Premier 1.2, Fiat Fastback Limited Edition, Honda HR-V EXL, Hyundai Creta N-Line, Jeep Renegade Longitude T270, Nissan Kicks Ex-clusive Pack, Renault Duster Iconic 1.3 TC...\"\n",
    "\n",
    "Leia mais em: https://quatrorodas.abril.com.br/testes/comparativo-tracker-fastback-hr-v-creta-renegade-kicks-duster-t-cross"
   ]
  },
  {
   "cell_type": "code",
   "execution_count": 2,
   "metadata": {},
   "outputs": [
    {
     "data": {
      "text/plain": [
       "['chevrolet tracker premier 1.2',\n",
       " 'fiat fastback limited edition',\n",
       " 'honda hr-v exl',\n",
       " 'hyundai creta n-line',\n",
       " 'jeep renegade longitude t270',\n",
       " 'nissan kicks ex-clusive pack',\n",
       " 'renault duster iconic 1.3 tc']"
      ]
     },
     "execution_count": 2,
     "metadata": {},
     "output_type": "execute_result"
    }
   ],
   "source": [
    "# Keywords\n",
    "keywords = [\"Chevrolet Tracker Premier 1.2\", \"Fiat Fastback Limited Edition\", \"Honda HR-V EXL\", \"Hyundai Creta N-Line\",\n",
    "            \"Jeep Renegade Longitude T270\", \"Nissan Kicks Ex-clusive Pack\", \"Renault Duster Iconic 1.3 TC\"]\n",
    "keywords = [k.lower() for k in keywords]\n",
    "keywords"
   ]
  },
  {
   "cell_type": "code",
   "execution_count": 3,
   "metadata": {},
   "outputs": [
    {
     "name": "stdout",
     "output_type": "stream",
     "text": [
      "{'version': '0.1.20231117', 'status_code': 20000, 'status_message': 'Ok.', 'time': '0.0749 sec.', 'cost': 0.05, 'tasks_count': 1, 'tasks_error': 0, 'tasks': [{'id': '01231404-7345-0110-0000-13f0ece301b4', 'status_code': 20100, 'status_message': 'Task Created.', 'time': '0.0018 sec.', 'cost': 0.05, 'result_count': 0, 'path': ['v3', 'keywords_data', 'google_ads', 'search_volume', 'task_post'], 'data': {'api': 'keywords_data', 'function': 'search_volume', 'se': 'google_ads', 'location_name': 'Brazil', 'keywords': ['chevrolet tracker premier 1.2', 'fiat fastback limited edition', 'honda hr-v exl', 'hyundai creta n-line', 'jeep renegade longitude t270', 'nissan kicks ex-clusive pack', 'renault duster iconic 1.3 tc']}, 'result': None}]}\n"
     ]
    }
   ],
   "source": [
    "client = RestClient(login, password)\n",
    "post_data = dict()\n",
    "# simple way to set a task\n",
    "post_data[len(post_data)] = dict(\n",
    "    location_name=\"Brazil\",\n",
    "    keywords=keywords\n",
    ")\n",
    "\n",
    "\n",
    "response = client.post(\n",
    "    \"/v3/keywords_data/google_ads/search_volume/task_post\", post_data)\n",
    "# you can find the full list of the response codes here https://docs.dataforseo.com/v3/appendix/errors\n",
    "if response[\"status_code\"] == 20000:\n",
    "    print(response)\n",
    "    # do something with result\n",
    "else:\n",
    "    print(\"error. Code: %d Message: %s\" %\n",
    "          (response[\"status_code\"], response[\"status_message\"]))"
   ]
  },
  {
   "cell_type": "markdown",
   "metadata": {},
   "source": [
    "## Get Request"
   ]
  },
  {
   "cell_type": "code",
   "execution_count": 6,
   "metadata": {},
   "outputs": [
    {
     "name": "stdout",
     "output_type": "stream",
     "text": [
      "[{'version': '0.1.20231117', 'status_code': 20000, 'status_message': 'Ok.', 'time': '0 sec.', 'cost': 0, 'tasks_count': 1, 'tasks_error': 0, 'tasks': [{'id': '01231404-7345-0110-0000-13f0ece301b4', 'status_code': 20000, 'status_message': 'Ok.', 'time': '0 sec.', 'cost': 0, 'result_count': 7, 'path': ['v3', 'keywords_data', 'google_ads', 'search_volume', 'task_get', '01231404-7345-0110-0000-13f0ece301b4'], 'data': {'api': 'keywords_data', 'function': 'search_volume', 'se': 'google_ads', 'location_name': 'Brazil', 'keywords': ['chevrolet tracker premier 1.2', 'fiat fastback limited edition', 'honda hr-v exl', 'hyundai creta n-line', 'jeep renegade longitude t270', 'nissan kicks ex-clusive pack', 'renault duster iconic 1.3 tc']}, 'result': [{'keyword': 'chevrolet tracker premier 1.2', 'spell': None, 'location_code': 2076, 'language_code': None, 'search_partners': False, 'competition': 'LOW', 'competition_index': 22, 'search_volume': 50, 'low_top_of_page_bid': 0.24, 'high_top_of_page_bid': 1.31, 'cpc': 0.94, 'monthly_searches': [{'year': 2023, 'month': 12, 'search_volume': 50}, {'year': 2023, 'month': 11, 'search_volume': 50}, {'year': 2023, 'month': 10, 'search_volume': 40}, {'year': 2023, 'month': 9, 'search_volume': 40}, {'year': 2023, 'month': 8, 'search_volume': 40}, {'year': 2023, 'month': 7, 'search_volume': 30}, {'year': 2023, 'month': 6, 'search_volume': 50}, {'year': 2023, 'month': 5, 'search_volume': 30}, {'year': 2023, 'month': 4, 'search_volume': 50}, {'year': 2023, 'month': 3, 'search_volume': 170}, {'year': 2023, 'month': 2, 'search_volume': 50}, {'year': 2023, 'month': 1, 'search_volume': 50}]}, {'keyword': 'fiat fastback limited edition', 'spell': None, 'location_code': 2076, 'language_code': None, 'search_partners': False, 'competition': 'LOW', 'competition_index': 6, 'search_volume': 9900, 'low_top_of_page_bid': 0.04, 'high_top_of_page_bid': 0.28, 'cpc': 0.29, 'monthly_searches': [{'year': 2023, 'month': 12, 'search_volume': 5400}, {'year': 2023, 'month': 11, 'search_volume': 4400}, {'year': 2023, 'month': 10, 'search_volume': 8100}, {'year': 2023, 'month': 9, 'search_volume': 6600}, {'year': 2023, 'month': 8, 'search_volume': 12100}, {'year': 2023, 'month': 7, 'search_volume': 9900}, {'year': 2023, 'month': 6, 'search_volume': 8100}, {'year': 2023, 'month': 5, 'search_volume': 12100}, {'year': 2023, 'month': 4, 'search_volume': 14800}, {'year': 2023, 'month': 3, 'search_volume': 18100}, {'year': 2023, 'month': 2, 'search_volume': 14800}, {'year': 2023, 'month': 1, 'search_volume': 18100}]}, {'keyword': 'honda hr-v exl', 'spell': None, 'location_code': 2076, 'language_code': None, 'search_partners': False, 'competition': 'LOW', 'competition_index': 11, 'search_volume': 4400, 'low_top_of_page_bid': 0.09, 'high_top_of_page_bid': 0.32, 'cpc': 0.26, 'monthly_searches': [{'year': 2023, 'month': 12, 'search_volume': 5400}, {'year': 2023, 'month': 11, 'search_volume': 3600}, {'year': 2023, 'month': 10, 'search_volume': 5400}, {'year': 2023, 'month': 9, 'search_volume': 5400}, {'year': 2023, 'month': 8, 'search_volume': 4400}, {'year': 2023, 'month': 7, 'search_volume': 4400}, {'year': 2023, 'month': 6, 'search_volume': 3600}, {'year': 2023, 'month': 5, 'search_volume': 3600}, {'year': 2023, 'month': 4, 'search_volume': 2900}, {'year': 2023, 'month': 3, 'search_volume': 2900}, {'year': 2023, 'month': 2, 'search_volume': 2900}, {'year': 2023, 'month': 1, 'search_volume': 3600}]}, {'keyword': 'hyundai creta n-line', 'spell': None, 'location_code': 2076, 'language_code': None, 'search_partners': False, 'competition': 'LOW', 'competition_index': 19, 'search_volume': 1600, 'low_top_of_page_bid': 0.1, 'high_top_of_page_bid': 0.96, 'cpc': 0.38, 'monthly_searches': [{'year': 2023, 'month': 12, 'search_volume': 1900}, {'year': 2023, 'month': 11, 'search_volume': 1000}, {'year': 2023, 'month': 10, 'search_volume': 1300}, {'year': 2023, 'month': 9, 'search_volume': 1300}, {'year': 2023, 'month': 8, 'search_volume': 1600}, {'year': 2023, 'month': 7, 'search_volume': 1900}, {'year': 2023, 'month': 6, 'search_volume': 1600}, {'year': 2023, 'month': 5, 'search_volume': 1600}, {'year': 2023, 'month': 4, 'search_volume': 1600}, {'year': 2023, 'month': 3, 'search_volume': 1900}, {'year': 2023, 'month': 2, 'search_volume': 1300}, {'year': 2023, 'month': 1, 'search_volume': 1000}]}, {'keyword': 'jeep renegade longitude t270', 'spell': None, 'location_code': 2076, 'language_code': None, 'search_partners': False, 'competition': 'LOW', 'competition_index': 30, 'search_volume': 320, 'low_top_of_page_bid': 0.31, 'high_top_of_page_bid': 1.91, 'cpc': 1.2, 'monthly_searches': [{'year': 2023, 'month': 12, 'search_volume': 170}, {'year': 2023, 'month': 11, 'search_volume': 210}, {'year': 2023, 'month': 10, 'search_volume': 170}, {'year': 2023, 'month': 9, 'search_volume': 210}, {'year': 2023, 'month': 8, 'search_volume': 210}, {'year': 2023, 'month': 7, 'search_volume': 320}, {'year': 2023, 'month': 6, 'search_volume': 590}, {'year': 2023, 'month': 5, 'search_volume': 590}, {'year': 2023, 'month': 4, 'search_volume': 480}, {'year': 2023, 'month': 3, 'search_volume': 480}, {'year': 2023, 'month': 2, 'search_volume': 170}, {'year': 2023, 'month': 1, 'search_volume': 210}]}, {'keyword': 'nissan kicks ex-clusive pack', 'spell': None, 'location_code': 2076, 'language_code': None, 'search_partners': False, 'competition': None, 'competition_index': None, 'search_volume': None, 'low_top_of_page_bid': None, 'high_top_of_page_bid': None, 'cpc': None, 'monthly_searches': None}, {'keyword': 'renault duster iconic 1.3 tc', 'spell': None, 'location_code': 2076, 'language_code': None, 'search_partners': False, 'competition': None, 'competition_index': None, 'search_volume': None, 'low_top_of_page_bid': None, 'high_top_of_page_bid': None, 'cpc': None, 'monthly_searches': None}]}]}]\n"
     ]
    }
   ],
   "source": [
    "response = client.get(\"/v3/keywords_data/google_ads/search_volume/tasks_ready\")\n",
    "\n",
    "if response['status_code'] == 20000:\n",
    "    results = []\n",
    "    for task in response['tasks']:\n",
    "        if (task['result'] and (len(task['result']) > 0)):\n",
    "            for resultTaskInfo in task['result']:\n",
    "                # 2 - using this method you can get results of each completed task\n",
    "                # GET /v3/keywords_data/google_ads/search_volume/task_get/$id\n",
    "                if (resultTaskInfo['endpoint']):\n",
    "                    results.append(client.get(resultTaskInfo['endpoint']))\n",
    "                '''\n",
    "                # 3 - another way to get the task results by id\n",
    "                # GET /v3/keywords_data/google_ads/search_volume/task_get/$id              \n",
    "                if(resultTaskInfo['id']):\n",
    "                    results.append(client.get(\"/v3/keywords_data/google_ads/search_volume/task_get/\" + resultTaskInfo['id']))\n",
    "                '''\n",
    "    print(results)\n",
    "    # do something with result\n",
    "else:\n",
    "    print(\"error. Code: %d Message: %s\" %\n",
    "          (response[\"status_code\"], response[\"status_message\"]))"
   ]
  },
  {
   "cell_type": "markdown",
   "metadata": {},
   "source": [
    "## EDA"
   ]
  },
  {
   "cell_type": "code",
   "execution_count": 7,
   "metadata": {},
   "outputs": [
    {
     "data": {
      "text/html": [
       "<div>\n",
       "<style scoped>\n",
       "    .dataframe tbody tr th:only-of-type {\n",
       "        vertical-align: middle;\n",
       "    }\n",
       "\n",
       "    .dataframe tbody tr th {\n",
       "        vertical-align: top;\n",
       "    }\n",
       "\n",
       "    .dataframe thead th {\n",
       "        text-align: right;\n",
       "    }\n",
       "</style>\n",
       "<table border=\"1\" class=\"dataframe\">\n",
       "  <thead>\n",
       "    <tr style=\"text-align: right;\">\n",
       "      <th></th>\n",
       "      <th>keyword</th>\n",
       "      <th>spell</th>\n",
       "      <th>location_code</th>\n",
       "      <th>language_code</th>\n",
       "      <th>search_partners</th>\n",
       "      <th>competition</th>\n",
       "      <th>competition_index</th>\n",
       "      <th>search_volume</th>\n",
       "      <th>low_top_of_page_bid</th>\n",
       "      <th>high_top_of_page_bid</th>\n",
       "      <th>cpc</th>\n",
       "      <th>monthly_searches</th>\n",
       "    </tr>\n",
       "  </thead>\n",
       "  <tbody>\n",
       "    <tr>\n",
       "      <th>0</th>\n",
       "      <td>chevrolet tracker premier 1.2</td>\n",
       "      <td>None</td>\n",
       "      <td>2076</td>\n",
       "      <td>None</td>\n",
       "      <td>False</td>\n",
       "      <td>LOW</td>\n",
       "      <td>22.0</td>\n",
       "      <td>50.0</td>\n",
       "      <td>0.24</td>\n",
       "      <td>1.31</td>\n",
       "      <td>0.94</td>\n",
       "      <td>[{'year': 2023, 'month': 12, 'search_volume': ...</td>\n",
       "    </tr>\n",
       "    <tr>\n",
       "      <th>1</th>\n",
       "      <td>fiat fastback limited edition</td>\n",
       "      <td>None</td>\n",
       "      <td>2076</td>\n",
       "      <td>None</td>\n",
       "      <td>False</td>\n",
       "      <td>LOW</td>\n",
       "      <td>6.0</td>\n",
       "      <td>9900.0</td>\n",
       "      <td>0.04</td>\n",
       "      <td>0.28</td>\n",
       "      <td>0.29</td>\n",
       "      <td>[{'year': 2023, 'month': 12, 'search_volume': ...</td>\n",
       "    </tr>\n",
       "    <tr>\n",
       "      <th>2</th>\n",
       "      <td>honda hr-v exl</td>\n",
       "      <td>None</td>\n",
       "      <td>2076</td>\n",
       "      <td>None</td>\n",
       "      <td>False</td>\n",
       "      <td>LOW</td>\n",
       "      <td>11.0</td>\n",
       "      <td>4400.0</td>\n",
       "      <td>0.09</td>\n",
       "      <td>0.32</td>\n",
       "      <td>0.26</td>\n",
       "      <td>[{'year': 2023, 'month': 12, 'search_volume': ...</td>\n",
       "    </tr>\n",
       "    <tr>\n",
       "      <th>3</th>\n",
       "      <td>hyundai creta n-line</td>\n",
       "      <td>None</td>\n",
       "      <td>2076</td>\n",
       "      <td>None</td>\n",
       "      <td>False</td>\n",
       "      <td>LOW</td>\n",
       "      <td>19.0</td>\n",
       "      <td>1600.0</td>\n",
       "      <td>0.10</td>\n",
       "      <td>0.96</td>\n",
       "      <td>0.38</td>\n",
       "      <td>[{'year': 2023, 'month': 12, 'search_volume': ...</td>\n",
       "    </tr>\n",
       "    <tr>\n",
       "      <th>4</th>\n",
       "      <td>jeep renegade longitude t270</td>\n",
       "      <td>None</td>\n",
       "      <td>2076</td>\n",
       "      <td>None</td>\n",
       "      <td>False</td>\n",
       "      <td>LOW</td>\n",
       "      <td>30.0</td>\n",
       "      <td>320.0</td>\n",
       "      <td>0.31</td>\n",
       "      <td>1.91</td>\n",
       "      <td>1.20</td>\n",
       "      <td>[{'year': 2023, 'month': 12, 'search_volume': ...</td>\n",
       "    </tr>\n",
       "  </tbody>\n",
       "</table>\n",
       "</div>"
      ],
      "text/plain": [
       "                         keyword spell  location_code language_code  \\\n",
       "0  chevrolet tracker premier 1.2  None           2076          None   \n",
       "1  fiat fastback limited edition  None           2076          None   \n",
       "2                 honda hr-v exl  None           2076          None   \n",
       "3           hyundai creta n-line  None           2076          None   \n",
       "4   jeep renegade longitude t270  None           2076          None   \n",
       "\n",
       "   search_partners competition  competition_index  search_volume  \\\n",
       "0            False         LOW               22.0           50.0   \n",
       "1            False         LOW                6.0         9900.0   \n",
       "2            False         LOW               11.0         4400.0   \n",
       "3            False         LOW               19.0         1600.0   \n",
       "4            False         LOW               30.0          320.0   \n",
       "\n",
       "   low_top_of_page_bid  high_top_of_page_bid   cpc  \\\n",
       "0                 0.24                  1.31  0.94   \n",
       "1                 0.04                  0.28  0.29   \n",
       "2                 0.09                  0.32  0.26   \n",
       "3                 0.10                  0.96  0.38   \n",
       "4                 0.31                  1.91  1.20   \n",
       "\n",
       "                                    monthly_searches  \n",
       "0  [{'year': 2023, 'month': 12, 'search_volume': ...  \n",
       "1  [{'year': 2023, 'month': 12, 'search_volume': ...  \n",
       "2  [{'year': 2023, 'month': 12, 'search_volume': ...  \n",
       "3  [{'year': 2023, 'month': 12, 'search_volume': ...  \n",
       "4  [{'year': 2023, 'month': 12, 'search_volume': ...  "
      ]
     },
     "execution_count": 7,
     "metadata": {},
     "output_type": "execute_result"
    }
   ],
   "source": [
    "df = pd.DataFrame(results[0]['tasks'][0]['result'])\n",
    "df.head()"
   ]
  },
  {
   "cell_type": "code",
   "execution_count": 8,
   "metadata": {},
   "outputs": [
    {
     "data": {
      "text/html": [
       "<div>\n",
       "<style scoped>\n",
       "    .dataframe tbody tr th:only-of-type {\n",
       "        vertical-align: middle;\n",
       "    }\n",
       "\n",
       "    .dataframe tbody tr th {\n",
       "        vertical-align: top;\n",
       "    }\n",
       "\n",
       "    .dataframe thead th {\n",
       "        text-align: right;\n",
       "    }\n",
       "</style>\n",
       "<table border=\"1\" class=\"dataframe\">\n",
       "  <thead>\n",
       "    <tr style=\"text-align: right;\">\n",
       "      <th></th>\n",
       "      <th>year</th>\n",
       "      <th>month</th>\n",
       "      <th>search_volume</th>\n",
       "      <th>good</th>\n",
       "      <th>date</th>\n",
       "    </tr>\n",
       "  </thead>\n",
       "  <tbody>\n",
       "    <tr>\n",
       "      <th>0</th>\n",
       "      <td>2023.0</td>\n",
       "      <td>12.0</td>\n",
       "      <td>50.0</td>\n",
       "      <td>chevrolet tracker premier 1.2</td>\n",
       "      <td>2023-12-01</td>\n",
       "    </tr>\n",
       "    <tr>\n",
       "      <th>1</th>\n",
       "      <td>2023.0</td>\n",
       "      <td>11.0</td>\n",
       "      <td>50.0</td>\n",
       "      <td>chevrolet tracker premier 1.2</td>\n",
       "      <td>2023-11-01</td>\n",
       "    </tr>\n",
       "    <tr>\n",
       "      <th>2</th>\n",
       "      <td>2023.0</td>\n",
       "      <td>10.0</td>\n",
       "      <td>40.0</td>\n",
       "      <td>chevrolet tracker premier 1.2</td>\n",
       "      <td>2023-10-01</td>\n",
       "    </tr>\n",
       "    <tr>\n",
       "      <th>3</th>\n",
       "      <td>2023.0</td>\n",
       "      <td>9.0</td>\n",
       "      <td>40.0</td>\n",
       "      <td>chevrolet tracker premier 1.2</td>\n",
       "      <td>2023-09-01</td>\n",
       "    </tr>\n",
       "    <tr>\n",
       "      <th>4</th>\n",
       "      <td>2023.0</td>\n",
       "      <td>8.0</td>\n",
       "      <td>40.0</td>\n",
       "      <td>chevrolet tracker premier 1.2</td>\n",
       "      <td>2023-08-01</td>\n",
       "    </tr>\n",
       "  </tbody>\n",
       "</table>\n",
       "</div>"
      ],
      "text/plain": [
       "     year  month  search_volume                           good       date\n",
       "0  2023.0   12.0           50.0  chevrolet tracker premier 1.2 2023-12-01\n",
       "1  2023.0   11.0           50.0  chevrolet tracker premier 1.2 2023-11-01\n",
       "2  2023.0   10.0           40.0  chevrolet tracker premier 1.2 2023-10-01\n",
       "3  2023.0    9.0           40.0  chevrolet tracker premier 1.2 2023-09-01\n",
       "4  2023.0    8.0           40.0  chevrolet tracker premier 1.2 2023-08-01"
      ]
     },
     "execution_count": 8,
     "metadata": {},
     "output_type": "execute_result"
    }
   ],
   "source": [
    "monthly = dict(zip(df[\"keyword\"], df[\"monthly_searches\"]))\n",
    "dfs_list = []\n",
    "for key, value in monthly.items():\n",
    "    temp_df = pd.DataFrame(value)\n",
    "    temp_df[\"good\"] = key\n",
    "    dfs_list.append(temp_df)\n",
    "\n",
    "df_monthly = pd.concat(dfs_list)\n",
    "df_monthly[\"date\"] = pd.to_datetime(\n",
    "    df_monthly[['year', 'month']].assign(DAY=1))\n",
    "df_monthly.head()"
   ]
  },
  {
   "cell_type": "code",
   "execution_count": 9,
   "metadata": {},
   "outputs": [
    {
     "data": {
      "application/vnd.plotly.v1+json": {
       "config": {
        "plotlyServerURL": "https://plot.ly"
       },
       "data": [
        {
         "hovertemplate": "good=chevrolet tracker premier 1.2<br>date=%{x}<br>search_volume=%{y}<extra></extra>",
         "legendgroup": "chevrolet tracker premier 1.2",
         "line": {
          "color": "#636efa",
          "dash": "solid"
         },
         "marker": {
          "symbol": "circle"
         },
         "mode": "lines+markers",
         "name": "chevrolet tracker premier 1.2",
         "orientation": "v",
         "showlegend": true,
         "type": "scatter",
         "x": [
          "2023-12-01T00:00:00",
          "2023-11-01T00:00:00",
          "2023-10-01T00:00:00",
          "2023-09-01T00:00:00",
          "2023-08-01T00:00:00",
          "2023-07-01T00:00:00",
          "2023-06-01T00:00:00",
          "2023-05-01T00:00:00",
          "2023-04-01T00:00:00",
          "2023-03-01T00:00:00",
          "2023-02-01T00:00:00",
          "2023-01-01T00:00:00"
         ],
         "xaxis": "x",
         "y": [
          50,
          50,
          40,
          40,
          40,
          30,
          50,
          30,
          50,
          170,
          50,
          50
         ],
         "yaxis": "y"
        },
        {
         "hovertemplate": "good=fiat fastback limited edition<br>date=%{x}<br>search_volume=%{y}<extra></extra>",
         "legendgroup": "fiat fastback limited edition",
         "line": {
          "color": "#EF553B",
          "dash": "solid"
         },
         "marker": {
          "symbol": "circle"
         },
         "mode": "lines+markers",
         "name": "fiat fastback limited edition",
         "orientation": "v",
         "showlegend": true,
         "type": "scatter",
         "x": [
          "2023-12-01T00:00:00",
          "2023-11-01T00:00:00",
          "2023-10-01T00:00:00",
          "2023-09-01T00:00:00",
          "2023-08-01T00:00:00",
          "2023-07-01T00:00:00",
          "2023-06-01T00:00:00",
          "2023-05-01T00:00:00",
          "2023-04-01T00:00:00",
          "2023-03-01T00:00:00",
          "2023-02-01T00:00:00",
          "2023-01-01T00:00:00"
         ],
         "xaxis": "x",
         "y": [
          5400,
          4400,
          8100,
          6600,
          12100,
          9900,
          8100,
          12100,
          14800,
          18100,
          14800,
          18100
         ],
         "yaxis": "y"
        },
        {
         "hovertemplate": "good=honda hr-v exl<br>date=%{x}<br>search_volume=%{y}<extra></extra>",
         "legendgroup": "honda hr-v exl",
         "line": {
          "color": "#00cc96",
          "dash": "solid"
         },
         "marker": {
          "symbol": "circle"
         },
         "mode": "lines+markers",
         "name": "honda hr-v exl",
         "orientation": "v",
         "showlegend": true,
         "type": "scatter",
         "x": [
          "2023-12-01T00:00:00",
          "2023-11-01T00:00:00",
          "2023-10-01T00:00:00",
          "2023-09-01T00:00:00",
          "2023-08-01T00:00:00",
          "2023-07-01T00:00:00",
          "2023-06-01T00:00:00",
          "2023-05-01T00:00:00",
          "2023-04-01T00:00:00",
          "2023-03-01T00:00:00",
          "2023-02-01T00:00:00",
          "2023-01-01T00:00:00"
         ],
         "xaxis": "x",
         "y": [
          5400,
          3600,
          5400,
          5400,
          4400,
          4400,
          3600,
          3600,
          2900,
          2900,
          2900,
          3600
         ],
         "yaxis": "y"
        },
        {
         "hovertemplate": "good=hyundai creta n-line<br>date=%{x}<br>search_volume=%{y}<extra></extra>",
         "legendgroup": "hyundai creta n-line",
         "line": {
          "color": "#ab63fa",
          "dash": "solid"
         },
         "marker": {
          "symbol": "circle"
         },
         "mode": "lines+markers",
         "name": "hyundai creta n-line",
         "orientation": "v",
         "showlegend": true,
         "type": "scatter",
         "x": [
          "2023-12-01T00:00:00",
          "2023-11-01T00:00:00",
          "2023-10-01T00:00:00",
          "2023-09-01T00:00:00",
          "2023-08-01T00:00:00",
          "2023-07-01T00:00:00",
          "2023-06-01T00:00:00",
          "2023-05-01T00:00:00",
          "2023-04-01T00:00:00",
          "2023-03-01T00:00:00",
          "2023-02-01T00:00:00",
          "2023-01-01T00:00:00"
         ],
         "xaxis": "x",
         "y": [
          1900,
          1000,
          1300,
          1300,
          1600,
          1900,
          1600,
          1600,
          1600,
          1900,
          1300,
          1000
         ],
         "yaxis": "y"
        },
        {
         "hovertemplate": "good=jeep renegade longitude t270<br>date=%{x}<br>search_volume=%{y}<extra></extra>",
         "legendgroup": "jeep renegade longitude t270",
         "line": {
          "color": "#FFA15A",
          "dash": "solid"
         },
         "marker": {
          "symbol": "circle"
         },
         "mode": "lines+markers",
         "name": "jeep renegade longitude t270",
         "orientation": "v",
         "showlegend": true,
         "type": "scatter",
         "x": [
          "2023-12-01T00:00:00",
          "2023-11-01T00:00:00",
          "2023-10-01T00:00:00",
          "2023-09-01T00:00:00",
          "2023-08-01T00:00:00",
          "2023-07-01T00:00:00",
          "2023-06-01T00:00:00",
          "2023-05-01T00:00:00",
          "2023-04-01T00:00:00",
          "2023-03-01T00:00:00",
          "2023-02-01T00:00:00",
          "2023-01-01T00:00:00"
         ],
         "xaxis": "x",
         "y": [
          170,
          210,
          170,
          210,
          210,
          320,
          590,
          590,
          480,
          480,
          170,
          210
         ],
         "yaxis": "y"
        }
       ],
       "layout": {
        "legend": {
         "title": {
          "text": "good"
         },
         "tracegroupgap": 0
        },
        "template": {
         "data": {
          "bar": [
           {
            "error_x": {
             "color": "#2a3f5f"
            },
            "error_y": {
             "color": "#2a3f5f"
            },
            "marker": {
             "line": {
              "color": "#E5ECF6",
              "width": 0.5
             },
             "pattern": {
              "fillmode": "overlay",
              "size": 10,
              "solidity": 0.2
             }
            },
            "type": "bar"
           }
          ],
          "barpolar": [
           {
            "marker": {
             "line": {
              "color": "#E5ECF6",
              "width": 0.5
             },
             "pattern": {
              "fillmode": "overlay",
              "size": 10,
              "solidity": 0.2
             }
            },
            "type": "barpolar"
           }
          ],
          "carpet": [
           {
            "aaxis": {
             "endlinecolor": "#2a3f5f",
             "gridcolor": "white",
             "linecolor": "white",
             "minorgridcolor": "white",
             "startlinecolor": "#2a3f5f"
            },
            "baxis": {
             "endlinecolor": "#2a3f5f",
             "gridcolor": "white",
             "linecolor": "white",
             "minorgridcolor": "white",
             "startlinecolor": "#2a3f5f"
            },
            "type": "carpet"
           }
          ],
          "choropleth": [
           {
            "colorbar": {
             "outlinewidth": 0,
             "ticks": ""
            },
            "type": "choropleth"
           }
          ],
          "contour": [
           {
            "colorbar": {
             "outlinewidth": 0,
             "ticks": ""
            },
            "colorscale": [
             [
              0,
              "#0d0887"
             ],
             [
              0.1111111111111111,
              "#46039f"
             ],
             [
              0.2222222222222222,
              "#7201a8"
             ],
             [
              0.3333333333333333,
              "#9c179e"
             ],
             [
              0.4444444444444444,
              "#bd3786"
             ],
             [
              0.5555555555555556,
              "#d8576b"
             ],
             [
              0.6666666666666666,
              "#ed7953"
             ],
             [
              0.7777777777777778,
              "#fb9f3a"
             ],
             [
              0.8888888888888888,
              "#fdca26"
             ],
             [
              1,
              "#f0f921"
             ]
            ],
            "type": "contour"
           }
          ],
          "contourcarpet": [
           {
            "colorbar": {
             "outlinewidth": 0,
             "ticks": ""
            },
            "type": "contourcarpet"
           }
          ],
          "heatmap": [
           {
            "colorbar": {
             "outlinewidth": 0,
             "ticks": ""
            },
            "colorscale": [
             [
              0,
              "#0d0887"
             ],
             [
              0.1111111111111111,
              "#46039f"
             ],
             [
              0.2222222222222222,
              "#7201a8"
             ],
             [
              0.3333333333333333,
              "#9c179e"
             ],
             [
              0.4444444444444444,
              "#bd3786"
             ],
             [
              0.5555555555555556,
              "#d8576b"
             ],
             [
              0.6666666666666666,
              "#ed7953"
             ],
             [
              0.7777777777777778,
              "#fb9f3a"
             ],
             [
              0.8888888888888888,
              "#fdca26"
             ],
             [
              1,
              "#f0f921"
             ]
            ],
            "type": "heatmap"
           }
          ],
          "heatmapgl": [
           {
            "colorbar": {
             "outlinewidth": 0,
             "ticks": ""
            },
            "colorscale": [
             [
              0,
              "#0d0887"
             ],
             [
              0.1111111111111111,
              "#46039f"
             ],
             [
              0.2222222222222222,
              "#7201a8"
             ],
             [
              0.3333333333333333,
              "#9c179e"
             ],
             [
              0.4444444444444444,
              "#bd3786"
             ],
             [
              0.5555555555555556,
              "#d8576b"
             ],
             [
              0.6666666666666666,
              "#ed7953"
             ],
             [
              0.7777777777777778,
              "#fb9f3a"
             ],
             [
              0.8888888888888888,
              "#fdca26"
             ],
             [
              1,
              "#f0f921"
             ]
            ],
            "type": "heatmapgl"
           }
          ],
          "histogram": [
           {
            "marker": {
             "pattern": {
              "fillmode": "overlay",
              "size": 10,
              "solidity": 0.2
             }
            },
            "type": "histogram"
           }
          ],
          "histogram2d": [
           {
            "colorbar": {
             "outlinewidth": 0,
             "ticks": ""
            },
            "colorscale": [
             [
              0,
              "#0d0887"
             ],
             [
              0.1111111111111111,
              "#46039f"
             ],
             [
              0.2222222222222222,
              "#7201a8"
             ],
             [
              0.3333333333333333,
              "#9c179e"
             ],
             [
              0.4444444444444444,
              "#bd3786"
             ],
             [
              0.5555555555555556,
              "#d8576b"
             ],
             [
              0.6666666666666666,
              "#ed7953"
             ],
             [
              0.7777777777777778,
              "#fb9f3a"
             ],
             [
              0.8888888888888888,
              "#fdca26"
             ],
             [
              1,
              "#f0f921"
             ]
            ],
            "type": "histogram2d"
           }
          ],
          "histogram2dcontour": [
           {
            "colorbar": {
             "outlinewidth": 0,
             "ticks": ""
            },
            "colorscale": [
             [
              0,
              "#0d0887"
             ],
             [
              0.1111111111111111,
              "#46039f"
             ],
             [
              0.2222222222222222,
              "#7201a8"
             ],
             [
              0.3333333333333333,
              "#9c179e"
             ],
             [
              0.4444444444444444,
              "#bd3786"
             ],
             [
              0.5555555555555556,
              "#d8576b"
             ],
             [
              0.6666666666666666,
              "#ed7953"
             ],
             [
              0.7777777777777778,
              "#fb9f3a"
             ],
             [
              0.8888888888888888,
              "#fdca26"
             ],
             [
              1,
              "#f0f921"
             ]
            ],
            "type": "histogram2dcontour"
           }
          ],
          "mesh3d": [
           {
            "colorbar": {
             "outlinewidth": 0,
             "ticks": ""
            },
            "type": "mesh3d"
           }
          ],
          "parcoords": [
           {
            "line": {
             "colorbar": {
              "outlinewidth": 0,
              "ticks": ""
             }
            },
            "type": "parcoords"
           }
          ],
          "pie": [
           {
            "automargin": true,
            "type": "pie"
           }
          ],
          "scatter": [
           {
            "fillpattern": {
             "fillmode": "overlay",
             "size": 10,
             "solidity": 0.2
            },
            "type": "scatter"
           }
          ],
          "scatter3d": [
           {
            "line": {
             "colorbar": {
              "outlinewidth": 0,
              "ticks": ""
             }
            },
            "marker": {
             "colorbar": {
              "outlinewidth": 0,
              "ticks": ""
             }
            },
            "type": "scatter3d"
           }
          ],
          "scattercarpet": [
           {
            "marker": {
             "colorbar": {
              "outlinewidth": 0,
              "ticks": ""
             }
            },
            "type": "scattercarpet"
           }
          ],
          "scattergeo": [
           {
            "marker": {
             "colorbar": {
              "outlinewidth": 0,
              "ticks": ""
             }
            },
            "type": "scattergeo"
           }
          ],
          "scattergl": [
           {
            "marker": {
             "colorbar": {
              "outlinewidth": 0,
              "ticks": ""
             }
            },
            "type": "scattergl"
           }
          ],
          "scattermapbox": [
           {
            "marker": {
             "colorbar": {
              "outlinewidth": 0,
              "ticks": ""
             }
            },
            "type": "scattermapbox"
           }
          ],
          "scatterpolar": [
           {
            "marker": {
             "colorbar": {
              "outlinewidth": 0,
              "ticks": ""
             }
            },
            "type": "scatterpolar"
           }
          ],
          "scatterpolargl": [
           {
            "marker": {
             "colorbar": {
              "outlinewidth": 0,
              "ticks": ""
             }
            },
            "type": "scatterpolargl"
           }
          ],
          "scatterternary": [
           {
            "marker": {
             "colorbar": {
              "outlinewidth": 0,
              "ticks": ""
             }
            },
            "type": "scatterternary"
           }
          ],
          "surface": [
           {
            "colorbar": {
             "outlinewidth": 0,
             "ticks": ""
            },
            "colorscale": [
             [
              0,
              "#0d0887"
             ],
             [
              0.1111111111111111,
              "#46039f"
             ],
             [
              0.2222222222222222,
              "#7201a8"
             ],
             [
              0.3333333333333333,
              "#9c179e"
             ],
             [
              0.4444444444444444,
              "#bd3786"
             ],
             [
              0.5555555555555556,
              "#d8576b"
             ],
             [
              0.6666666666666666,
              "#ed7953"
             ],
             [
              0.7777777777777778,
              "#fb9f3a"
             ],
             [
              0.8888888888888888,
              "#fdca26"
             ],
             [
              1,
              "#f0f921"
             ]
            ],
            "type": "surface"
           }
          ],
          "table": [
           {
            "cells": {
             "fill": {
              "color": "#EBF0F8"
             },
             "line": {
              "color": "white"
             }
            },
            "header": {
             "fill": {
              "color": "#C8D4E3"
             },
             "line": {
              "color": "white"
             }
            },
            "type": "table"
           }
          ]
         },
         "layout": {
          "annotationdefaults": {
           "arrowcolor": "#2a3f5f",
           "arrowhead": 0,
           "arrowwidth": 1
          },
          "autotypenumbers": "strict",
          "coloraxis": {
           "colorbar": {
            "outlinewidth": 0,
            "ticks": ""
           }
          },
          "colorscale": {
           "diverging": [
            [
             0,
             "#8e0152"
            ],
            [
             0.1,
             "#c51b7d"
            ],
            [
             0.2,
             "#de77ae"
            ],
            [
             0.3,
             "#f1b6da"
            ],
            [
             0.4,
             "#fde0ef"
            ],
            [
             0.5,
             "#f7f7f7"
            ],
            [
             0.6,
             "#e6f5d0"
            ],
            [
             0.7,
             "#b8e186"
            ],
            [
             0.8,
             "#7fbc41"
            ],
            [
             0.9,
             "#4d9221"
            ],
            [
             1,
             "#276419"
            ]
           ],
           "sequential": [
            [
             0,
             "#0d0887"
            ],
            [
             0.1111111111111111,
             "#46039f"
            ],
            [
             0.2222222222222222,
             "#7201a8"
            ],
            [
             0.3333333333333333,
             "#9c179e"
            ],
            [
             0.4444444444444444,
             "#bd3786"
            ],
            [
             0.5555555555555556,
             "#d8576b"
            ],
            [
             0.6666666666666666,
             "#ed7953"
            ],
            [
             0.7777777777777778,
             "#fb9f3a"
            ],
            [
             0.8888888888888888,
             "#fdca26"
            ],
            [
             1,
             "#f0f921"
            ]
           ],
           "sequentialminus": [
            [
             0,
             "#0d0887"
            ],
            [
             0.1111111111111111,
             "#46039f"
            ],
            [
             0.2222222222222222,
             "#7201a8"
            ],
            [
             0.3333333333333333,
             "#9c179e"
            ],
            [
             0.4444444444444444,
             "#bd3786"
            ],
            [
             0.5555555555555556,
             "#d8576b"
            ],
            [
             0.6666666666666666,
             "#ed7953"
            ],
            [
             0.7777777777777778,
             "#fb9f3a"
            ],
            [
             0.8888888888888888,
             "#fdca26"
            ],
            [
             1,
             "#f0f921"
            ]
           ]
          },
          "colorway": [
           "#636efa",
           "#EF553B",
           "#00cc96",
           "#ab63fa",
           "#FFA15A",
           "#19d3f3",
           "#FF6692",
           "#B6E880",
           "#FF97FF",
           "#FECB52"
          ],
          "font": {
           "color": "#2a3f5f"
          },
          "geo": {
           "bgcolor": "white",
           "lakecolor": "white",
           "landcolor": "#E5ECF6",
           "showlakes": true,
           "showland": true,
           "subunitcolor": "white"
          },
          "hoverlabel": {
           "align": "left"
          },
          "hovermode": "closest",
          "mapbox": {
           "style": "light"
          },
          "paper_bgcolor": "white",
          "plot_bgcolor": "#E5ECF6",
          "polar": {
           "angularaxis": {
            "gridcolor": "white",
            "linecolor": "white",
            "ticks": ""
           },
           "bgcolor": "#E5ECF6",
           "radialaxis": {
            "gridcolor": "white",
            "linecolor": "white",
            "ticks": ""
           }
          },
          "scene": {
           "xaxis": {
            "backgroundcolor": "#E5ECF6",
            "gridcolor": "white",
            "gridwidth": 2,
            "linecolor": "white",
            "showbackground": true,
            "ticks": "",
            "zerolinecolor": "white"
           },
           "yaxis": {
            "backgroundcolor": "#E5ECF6",
            "gridcolor": "white",
            "gridwidth": 2,
            "linecolor": "white",
            "showbackground": true,
            "ticks": "",
            "zerolinecolor": "white"
           },
           "zaxis": {
            "backgroundcolor": "#E5ECF6",
            "gridcolor": "white",
            "gridwidth": 2,
            "linecolor": "white",
            "showbackground": true,
            "ticks": "",
            "zerolinecolor": "white"
           }
          },
          "shapedefaults": {
           "line": {
            "color": "#2a3f5f"
           }
          },
          "ternary": {
           "aaxis": {
            "gridcolor": "white",
            "linecolor": "white",
            "ticks": ""
           },
           "baxis": {
            "gridcolor": "white",
            "linecolor": "white",
            "ticks": ""
           },
           "bgcolor": "#E5ECF6",
           "caxis": {
            "gridcolor": "white",
            "linecolor": "white",
            "ticks": ""
           }
          },
          "title": {
           "x": 0.05
          },
          "xaxis": {
           "automargin": true,
           "gridcolor": "white",
           "linecolor": "white",
           "ticks": "",
           "title": {
            "standoff": 15
           },
           "zerolinecolor": "white",
           "zerolinewidth": 2
          },
          "yaxis": {
           "automargin": true,
           "gridcolor": "white",
           "linecolor": "white",
           "ticks": "",
           "title": {
            "standoff": 15
           },
           "zerolinecolor": "white",
           "zerolinewidth": 2
          }
         }
        },
        "title": {
         "text": "Volume de Buscas por Modelo"
        },
        "xaxis": {
         "anchor": "y",
         "domain": [
          0,
          1
         ],
         "tickformat": "%b-%Y",
         "title": {
          "text": "date"
         }
        },
        "yaxis": {
         "anchor": "x",
         "domain": [
          0,
          1
         ],
         "title": {
          "text": "search_volume"
         }
        }
       }
      }
     },
     "metadata": {},
     "output_type": "display_data"
    }
   ],
   "source": [
    "# Viz - Vol\n",
    "fig = px.line(data_frame=df_monthly, x=\"date\", y=\"search_volume\",\n",
    "              color=\"good\", title=\"Volume de Buscas por Modelo\", markers=True)\n",
    "fig.update_xaxes(tickformat=\"%b-%Y\")\n",
    "fig.show()"
   ]
  },
  {
   "cell_type": "code",
   "execution_count": 10,
   "metadata": {},
   "outputs": [
    {
     "data": {
      "text/plain": [
       "array([22960., 19220., 23550., 19830., 17920., 13940., 16550., 18350.,\n",
       "       13550., 15010.,  9260., 12920.])"
      ]
     },
     "execution_count": 10,
     "metadata": {},
     "output_type": "execute_result"
    }
   ],
   "source": [
    "df_monthly.groupby([\"year\", \"month\"])[\"search_volume\"].sum().values"
   ]
  },
  {
   "cell_type": "code",
   "execution_count": 11,
   "metadata": {},
   "outputs": [
    {
     "data": {
      "text/html": [
       "<div>\n",
       "<style scoped>\n",
       "    .dataframe tbody tr th:only-of-type {\n",
       "        vertical-align: middle;\n",
       "    }\n",
       "\n",
       "    .dataframe tbody tr th {\n",
       "        vertical-align: top;\n",
       "    }\n",
       "\n",
       "    .dataframe thead th {\n",
       "        text-align: right;\n",
       "    }\n",
       "</style>\n",
       "<table border=\"1\" class=\"dataframe\">\n",
       "  <thead>\n",
       "    <tr style=\"text-align: right;\">\n",
       "      <th></th>\n",
       "      <th>year</th>\n",
       "      <th>month</th>\n",
       "      <th>search_volume</th>\n",
       "      <th>good</th>\n",
       "      <th>date</th>\n",
       "      <th>relative_search</th>\n",
       "    </tr>\n",
       "  </thead>\n",
       "  <tbody>\n",
       "    <tr>\n",
       "      <th>0</th>\n",
       "      <td>2023.0</td>\n",
       "      <td>12.0</td>\n",
       "      <td>50.0</td>\n",
       "      <td>chevrolet tracker premier 1.2</td>\n",
       "      <td>2023-12-01</td>\n",
       "      <td>0.003870</td>\n",
       "    </tr>\n",
       "    <tr>\n",
       "      <th>1</th>\n",
       "      <td>2023.0</td>\n",
       "      <td>11.0</td>\n",
       "      <td>50.0</td>\n",
       "      <td>chevrolet tracker premier 1.2</td>\n",
       "      <td>2023-11-01</td>\n",
       "      <td>0.005400</td>\n",
       "    </tr>\n",
       "    <tr>\n",
       "      <th>2</th>\n",
       "      <td>2023.0</td>\n",
       "      <td>10.0</td>\n",
       "      <td>40.0</td>\n",
       "      <td>chevrolet tracker premier 1.2</td>\n",
       "      <td>2023-10-01</td>\n",
       "      <td>0.002665</td>\n",
       "    </tr>\n",
       "    <tr>\n",
       "      <th>3</th>\n",
       "      <td>2023.0</td>\n",
       "      <td>9.0</td>\n",
       "      <td>40.0</td>\n",
       "      <td>chevrolet tracker premier 1.2</td>\n",
       "      <td>2023-09-01</td>\n",
       "      <td>0.002952</td>\n",
       "    </tr>\n",
       "    <tr>\n",
       "      <th>4</th>\n",
       "      <td>2023.0</td>\n",
       "      <td>8.0</td>\n",
       "      <td>40.0</td>\n",
       "      <td>chevrolet tracker premier 1.2</td>\n",
       "      <td>2023-08-01</td>\n",
       "      <td>0.002180</td>\n",
       "    </tr>\n",
       "  </tbody>\n",
       "</table>\n",
       "</div>"
      ],
      "text/plain": [
       "     year  month  search_volume                           good       date  \\\n",
       "0  2023.0   12.0           50.0  chevrolet tracker premier 1.2 2023-12-01   \n",
       "1  2023.0   11.0           50.0  chevrolet tracker premier 1.2 2023-11-01   \n",
       "2  2023.0   10.0           40.0  chevrolet tracker premier 1.2 2023-10-01   \n",
       "3  2023.0    9.0           40.0  chevrolet tracker premier 1.2 2023-09-01   \n",
       "4  2023.0    8.0           40.0  chevrolet tracker premier 1.2 2023-08-01   \n",
       "\n",
       "   relative_search  \n",
       "0         0.003870  \n",
       "1         0.005400  \n",
       "2         0.002665  \n",
       "3         0.002952  \n",
       "4         0.002180  "
      ]
     },
     "execution_count": 11,
     "metadata": {},
     "output_type": "execute_result"
    }
   ],
   "source": [
    "df_monthly[\"relative_search\"] = df_monthly[\"search_volume\"] / \\\n",
    "    df_monthly.groupby([\"year\", \"month\"])[\"search_volume\"].transform('sum')\n",
    "\n",
    "\n",
    "df_monthly.head()"
   ]
  },
  {
   "cell_type": "code",
   "execution_count": 13,
   "metadata": {},
   "outputs": [
    {
     "data": {
      "application/vnd.plotly.v1+json": {
       "config": {
        "plotlyServerURL": "https://plot.ly"
       },
       "data": [
        {
         "alignmentgroup": "True",
         "hovertemplate": "good=chevrolet tracker premier 1.2<br>date=%{x}<br>relative_search=%{y}<extra></extra>",
         "legendgroup": "chevrolet tracker premier 1.2",
         "marker": {
          "color": "#636efa",
          "pattern": {
           "shape": ""
          }
         },
         "name": "chevrolet tracker premier 1.2",
         "offsetgroup": "chevrolet tracker premier 1.2",
         "orientation": "v",
         "showlegend": true,
         "textposition": "auto",
         "texttemplate": "%{y:.2%}",
         "type": "bar",
         "x": [
          "2023-12-01T00:00:00",
          "2023-11-01T00:00:00",
          "2023-10-01T00:00:00",
          "2023-09-01T00:00:00",
          "2023-08-01T00:00:00",
          "2023-07-01T00:00:00",
          "2023-06-01T00:00:00",
          "2023-05-01T00:00:00",
          "2023-04-01T00:00:00",
          "2023-03-01T00:00:00",
          "2023-02-01T00:00:00",
          "2023-01-01T00:00:00"
         ],
         "xaxis": "x",
         "y": [
          0.003869969040247678,
          0.005399568034557235,
          0.002664890073284477,
          0.002952029520295203,
          0.0021798365122615805,
          0.0018126888217522659,
          0.003586800573888092,
          0.0016741071428571428,
          0.0025214321734745334,
          0.007218683651804671,
          0.0026014568158168575,
          0.0021777003484320556
         ],
         "yaxis": "y"
        },
        {
         "alignmentgroup": "True",
         "hovertemplate": "good=fiat fastback limited edition<br>date=%{x}<br>relative_search=%{y}<extra></extra>",
         "legendgroup": "fiat fastback limited edition",
         "marker": {
          "color": "#EF553B",
          "pattern": {
           "shape": ""
          }
         },
         "name": "fiat fastback limited edition",
         "offsetgroup": "fiat fastback limited edition",
         "orientation": "v",
         "showlegend": true,
         "textposition": "auto",
         "texttemplate": "%{y:.2%}",
         "type": "bar",
         "x": [
          "2023-12-01T00:00:00",
          "2023-11-01T00:00:00",
          "2023-10-01T00:00:00",
          "2023-09-01T00:00:00",
          "2023-08-01T00:00:00",
          "2023-07-01T00:00:00",
          "2023-06-01T00:00:00",
          "2023-05-01T00:00:00",
          "2023-04-01T00:00:00",
          "2023-03-01T00:00:00",
          "2023-02-01T00:00:00",
          "2023-01-01T00:00:00"
         ],
         "xaxis": "x",
         "y": [
          0.4179566563467492,
          0.47516198704103674,
          0.5396402398401066,
          0.4870848708487085,
          0.659400544959128,
          0.5981873111782477,
          0.5810616929698709,
          0.6752232142857143,
          0.7463439233484619,
          0.7685774946921444,
          0.7700312174817898,
          0.7883275261324042
         ],
         "yaxis": "y"
        },
        {
         "alignmentgroup": "True",
         "hovertemplate": "good=honda hr-v exl<br>date=%{x}<br>relative_search=%{y}<extra></extra>",
         "legendgroup": "honda hr-v exl",
         "marker": {
          "color": "#00cc96",
          "pattern": {
           "shape": ""
          }
         },
         "name": "honda hr-v exl",
         "offsetgroup": "honda hr-v exl",
         "orientation": "v",
         "showlegend": true,
         "textposition": "auto",
         "texttemplate": "%{y:.2%}",
         "type": "bar",
         "x": [
          "2023-12-01T00:00:00",
          "2023-11-01T00:00:00",
          "2023-10-01T00:00:00",
          "2023-09-01T00:00:00",
          "2023-08-01T00:00:00",
          "2023-07-01T00:00:00",
          "2023-06-01T00:00:00",
          "2023-05-01T00:00:00",
          "2023-04-01T00:00:00",
          "2023-03-01T00:00:00",
          "2023-02-01T00:00:00",
          "2023-01-01T00:00:00"
         ],
         "xaxis": "x",
         "y": [
          0.4179566563467492,
          0.38876889848812096,
          0.3597601598934044,
          0.3985239852398524,
          0.23978201634877383,
          0.26586102719033233,
          0.2582496413199426,
          0.20089285714285715,
          0.14624306606152296,
          0.12314225053078556,
          0.15088449531737774,
          0.156794425087108
         ],
         "yaxis": "y"
        },
        {
         "alignmentgroup": "True",
         "hovertemplate": "good=hyundai creta n-line<br>date=%{x}<br>relative_search=%{y}<extra></extra>",
         "legendgroup": "hyundai creta n-line",
         "marker": {
          "color": "#ab63fa",
          "pattern": {
           "shape": ""
          }
         },
         "name": "hyundai creta n-line",
         "offsetgroup": "hyundai creta n-line",
         "orientation": "v",
         "showlegend": true,
         "textposition": "auto",
         "texttemplate": "%{y:.2%}",
         "type": "bar",
         "x": [
          "2023-12-01T00:00:00",
          "2023-11-01T00:00:00",
          "2023-10-01T00:00:00",
          "2023-09-01T00:00:00",
          "2023-08-01T00:00:00",
          "2023-07-01T00:00:00",
          "2023-06-01T00:00:00",
          "2023-05-01T00:00:00",
          "2023-04-01T00:00:00",
          "2023-03-01T00:00:00",
          "2023-02-01T00:00:00",
          "2023-01-01T00:00:00"
         ],
         "xaxis": "x",
         "y": [
          0.14705882352941177,
          0.1079913606911447,
          0.0866089273817455,
          0.0959409594095941,
          0.08719346049046321,
          0.1148036253776435,
          0.11477761836441894,
          0.08928571428571429,
          0.08068582955118507,
          0.08067940552016985,
          0.06763787721123829,
          0.04355400696864112
         ],
         "yaxis": "y"
        },
        {
         "alignmentgroup": "True",
         "hovertemplate": "good=jeep renegade longitude t270<br>date=%{x}<br>relative_search=%{y}<extra></extra>",
         "legendgroup": "jeep renegade longitude t270",
         "marker": {
          "color": "#FFA15A",
          "pattern": {
           "shape": ""
          }
         },
         "name": "jeep renegade longitude t270",
         "offsetgroup": "jeep renegade longitude t270",
         "orientation": "v",
         "showlegend": true,
         "textposition": "auto",
         "texttemplate": "%{y:.2%}",
         "type": "bar",
         "x": [
          "2023-12-01T00:00:00",
          "2023-11-01T00:00:00",
          "2023-10-01T00:00:00",
          "2023-09-01T00:00:00",
          "2023-08-01T00:00:00",
          "2023-07-01T00:00:00",
          "2023-06-01T00:00:00",
          "2023-05-01T00:00:00",
          "2023-04-01T00:00:00",
          "2023-03-01T00:00:00",
          "2023-02-01T00:00:00",
          "2023-01-01T00:00:00"
         ],
         "xaxis": "x",
         "y": [
          0.013157894736842105,
          0.02267818574514039,
          0.011325782811459028,
          0.015498154981549815,
          0.011444141689373298,
          0.01933534743202417,
          0.04232424677187949,
          0.032924107142857144,
          0.024205748865355523,
          0.02038216560509554,
          0.008844953173777315,
          0.009146341463414634
         ],
         "yaxis": "y"
        }
       ],
       "layout": {
        "barmode": "relative",
        "legend": {
         "title": {
          "text": "good"
         },
         "tracegroupgap": 0
        },
        "template": {
         "data": {
          "bar": [
           {
            "error_x": {
             "color": "#2a3f5f"
            },
            "error_y": {
             "color": "#2a3f5f"
            },
            "marker": {
             "line": {
              "color": "#E5ECF6",
              "width": 0.5
             },
             "pattern": {
              "fillmode": "overlay",
              "size": 10,
              "solidity": 0.2
             }
            },
            "type": "bar"
           }
          ],
          "barpolar": [
           {
            "marker": {
             "line": {
              "color": "#E5ECF6",
              "width": 0.5
             },
             "pattern": {
              "fillmode": "overlay",
              "size": 10,
              "solidity": 0.2
             }
            },
            "type": "barpolar"
           }
          ],
          "carpet": [
           {
            "aaxis": {
             "endlinecolor": "#2a3f5f",
             "gridcolor": "white",
             "linecolor": "white",
             "minorgridcolor": "white",
             "startlinecolor": "#2a3f5f"
            },
            "baxis": {
             "endlinecolor": "#2a3f5f",
             "gridcolor": "white",
             "linecolor": "white",
             "minorgridcolor": "white",
             "startlinecolor": "#2a3f5f"
            },
            "type": "carpet"
           }
          ],
          "choropleth": [
           {
            "colorbar": {
             "outlinewidth": 0,
             "ticks": ""
            },
            "type": "choropleth"
           }
          ],
          "contour": [
           {
            "colorbar": {
             "outlinewidth": 0,
             "ticks": ""
            },
            "colorscale": [
             [
              0,
              "#0d0887"
             ],
             [
              0.1111111111111111,
              "#46039f"
             ],
             [
              0.2222222222222222,
              "#7201a8"
             ],
             [
              0.3333333333333333,
              "#9c179e"
             ],
             [
              0.4444444444444444,
              "#bd3786"
             ],
             [
              0.5555555555555556,
              "#d8576b"
             ],
             [
              0.6666666666666666,
              "#ed7953"
             ],
             [
              0.7777777777777778,
              "#fb9f3a"
             ],
             [
              0.8888888888888888,
              "#fdca26"
             ],
             [
              1,
              "#f0f921"
             ]
            ],
            "type": "contour"
           }
          ],
          "contourcarpet": [
           {
            "colorbar": {
             "outlinewidth": 0,
             "ticks": ""
            },
            "type": "contourcarpet"
           }
          ],
          "heatmap": [
           {
            "colorbar": {
             "outlinewidth": 0,
             "ticks": ""
            },
            "colorscale": [
             [
              0,
              "#0d0887"
             ],
             [
              0.1111111111111111,
              "#46039f"
             ],
             [
              0.2222222222222222,
              "#7201a8"
             ],
             [
              0.3333333333333333,
              "#9c179e"
             ],
             [
              0.4444444444444444,
              "#bd3786"
             ],
             [
              0.5555555555555556,
              "#d8576b"
             ],
             [
              0.6666666666666666,
              "#ed7953"
             ],
             [
              0.7777777777777778,
              "#fb9f3a"
             ],
             [
              0.8888888888888888,
              "#fdca26"
             ],
             [
              1,
              "#f0f921"
             ]
            ],
            "type": "heatmap"
           }
          ],
          "heatmapgl": [
           {
            "colorbar": {
             "outlinewidth": 0,
             "ticks": ""
            },
            "colorscale": [
             [
              0,
              "#0d0887"
             ],
             [
              0.1111111111111111,
              "#46039f"
             ],
             [
              0.2222222222222222,
              "#7201a8"
             ],
             [
              0.3333333333333333,
              "#9c179e"
             ],
             [
              0.4444444444444444,
              "#bd3786"
             ],
             [
              0.5555555555555556,
              "#d8576b"
             ],
             [
              0.6666666666666666,
              "#ed7953"
             ],
             [
              0.7777777777777778,
              "#fb9f3a"
             ],
             [
              0.8888888888888888,
              "#fdca26"
             ],
             [
              1,
              "#f0f921"
             ]
            ],
            "type": "heatmapgl"
           }
          ],
          "histogram": [
           {
            "marker": {
             "pattern": {
              "fillmode": "overlay",
              "size": 10,
              "solidity": 0.2
             }
            },
            "type": "histogram"
           }
          ],
          "histogram2d": [
           {
            "colorbar": {
             "outlinewidth": 0,
             "ticks": ""
            },
            "colorscale": [
             [
              0,
              "#0d0887"
             ],
             [
              0.1111111111111111,
              "#46039f"
             ],
             [
              0.2222222222222222,
              "#7201a8"
             ],
             [
              0.3333333333333333,
              "#9c179e"
             ],
             [
              0.4444444444444444,
              "#bd3786"
             ],
             [
              0.5555555555555556,
              "#d8576b"
             ],
             [
              0.6666666666666666,
              "#ed7953"
             ],
             [
              0.7777777777777778,
              "#fb9f3a"
             ],
             [
              0.8888888888888888,
              "#fdca26"
             ],
             [
              1,
              "#f0f921"
             ]
            ],
            "type": "histogram2d"
           }
          ],
          "histogram2dcontour": [
           {
            "colorbar": {
             "outlinewidth": 0,
             "ticks": ""
            },
            "colorscale": [
             [
              0,
              "#0d0887"
             ],
             [
              0.1111111111111111,
              "#46039f"
             ],
             [
              0.2222222222222222,
              "#7201a8"
             ],
             [
              0.3333333333333333,
              "#9c179e"
             ],
             [
              0.4444444444444444,
              "#bd3786"
             ],
             [
              0.5555555555555556,
              "#d8576b"
             ],
             [
              0.6666666666666666,
              "#ed7953"
             ],
             [
              0.7777777777777778,
              "#fb9f3a"
             ],
             [
              0.8888888888888888,
              "#fdca26"
             ],
             [
              1,
              "#f0f921"
             ]
            ],
            "type": "histogram2dcontour"
           }
          ],
          "mesh3d": [
           {
            "colorbar": {
             "outlinewidth": 0,
             "ticks": ""
            },
            "type": "mesh3d"
           }
          ],
          "parcoords": [
           {
            "line": {
             "colorbar": {
              "outlinewidth": 0,
              "ticks": ""
             }
            },
            "type": "parcoords"
           }
          ],
          "pie": [
           {
            "automargin": true,
            "type": "pie"
           }
          ],
          "scatter": [
           {
            "fillpattern": {
             "fillmode": "overlay",
             "size": 10,
             "solidity": 0.2
            },
            "type": "scatter"
           }
          ],
          "scatter3d": [
           {
            "line": {
             "colorbar": {
              "outlinewidth": 0,
              "ticks": ""
             }
            },
            "marker": {
             "colorbar": {
              "outlinewidth": 0,
              "ticks": ""
             }
            },
            "type": "scatter3d"
           }
          ],
          "scattercarpet": [
           {
            "marker": {
             "colorbar": {
              "outlinewidth": 0,
              "ticks": ""
             }
            },
            "type": "scattercarpet"
           }
          ],
          "scattergeo": [
           {
            "marker": {
             "colorbar": {
              "outlinewidth": 0,
              "ticks": ""
             }
            },
            "type": "scattergeo"
           }
          ],
          "scattergl": [
           {
            "marker": {
             "colorbar": {
              "outlinewidth": 0,
              "ticks": ""
             }
            },
            "type": "scattergl"
           }
          ],
          "scattermapbox": [
           {
            "marker": {
             "colorbar": {
              "outlinewidth": 0,
              "ticks": ""
             }
            },
            "type": "scattermapbox"
           }
          ],
          "scatterpolar": [
           {
            "marker": {
             "colorbar": {
              "outlinewidth": 0,
              "ticks": ""
             }
            },
            "type": "scatterpolar"
           }
          ],
          "scatterpolargl": [
           {
            "marker": {
             "colorbar": {
              "outlinewidth": 0,
              "ticks": ""
             }
            },
            "type": "scatterpolargl"
           }
          ],
          "scatterternary": [
           {
            "marker": {
             "colorbar": {
              "outlinewidth": 0,
              "ticks": ""
             }
            },
            "type": "scatterternary"
           }
          ],
          "surface": [
           {
            "colorbar": {
             "outlinewidth": 0,
             "ticks": ""
            },
            "colorscale": [
             [
              0,
              "#0d0887"
             ],
             [
              0.1111111111111111,
              "#46039f"
             ],
             [
              0.2222222222222222,
              "#7201a8"
             ],
             [
              0.3333333333333333,
              "#9c179e"
             ],
             [
              0.4444444444444444,
              "#bd3786"
             ],
             [
              0.5555555555555556,
              "#d8576b"
             ],
             [
              0.6666666666666666,
              "#ed7953"
             ],
             [
              0.7777777777777778,
              "#fb9f3a"
             ],
             [
              0.8888888888888888,
              "#fdca26"
             ],
             [
              1,
              "#f0f921"
             ]
            ],
            "type": "surface"
           }
          ],
          "table": [
           {
            "cells": {
             "fill": {
              "color": "#EBF0F8"
             },
             "line": {
              "color": "white"
             }
            },
            "header": {
             "fill": {
              "color": "#C8D4E3"
             },
             "line": {
              "color": "white"
             }
            },
            "type": "table"
           }
          ]
         },
         "layout": {
          "annotationdefaults": {
           "arrowcolor": "#2a3f5f",
           "arrowhead": 0,
           "arrowwidth": 1
          },
          "autotypenumbers": "strict",
          "coloraxis": {
           "colorbar": {
            "outlinewidth": 0,
            "ticks": ""
           }
          },
          "colorscale": {
           "diverging": [
            [
             0,
             "#8e0152"
            ],
            [
             0.1,
             "#c51b7d"
            ],
            [
             0.2,
             "#de77ae"
            ],
            [
             0.3,
             "#f1b6da"
            ],
            [
             0.4,
             "#fde0ef"
            ],
            [
             0.5,
             "#f7f7f7"
            ],
            [
             0.6,
             "#e6f5d0"
            ],
            [
             0.7,
             "#b8e186"
            ],
            [
             0.8,
             "#7fbc41"
            ],
            [
             0.9,
             "#4d9221"
            ],
            [
             1,
             "#276419"
            ]
           ],
           "sequential": [
            [
             0,
             "#0d0887"
            ],
            [
             0.1111111111111111,
             "#46039f"
            ],
            [
             0.2222222222222222,
             "#7201a8"
            ],
            [
             0.3333333333333333,
             "#9c179e"
            ],
            [
             0.4444444444444444,
             "#bd3786"
            ],
            [
             0.5555555555555556,
             "#d8576b"
            ],
            [
             0.6666666666666666,
             "#ed7953"
            ],
            [
             0.7777777777777778,
             "#fb9f3a"
            ],
            [
             0.8888888888888888,
             "#fdca26"
            ],
            [
             1,
             "#f0f921"
            ]
           ],
           "sequentialminus": [
            [
             0,
             "#0d0887"
            ],
            [
             0.1111111111111111,
             "#46039f"
            ],
            [
             0.2222222222222222,
             "#7201a8"
            ],
            [
             0.3333333333333333,
             "#9c179e"
            ],
            [
             0.4444444444444444,
             "#bd3786"
            ],
            [
             0.5555555555555556,
             "#d8576b"
            ],
            [
             0.6666666666666666,
             "#ed7953"
            ],
            [
             0.7777777777777778,
             "#fb9f3a"
            ],
            [
             0.8888888888888888,
             "#fdca26"
            ],
            [
             1,
             "#f0f921"
            ]
           ]
          },
          "colorway": [
           "#636efa",
           "#EF553B",
           "#00cc96",
           "#ab63fa",
           "#FFA15A",
           "#19d3f3",
           "#FF6692",
           "#B6E880",
           "#FF97FF",
           "#FECB52"
          ],
          "font": {
           "color": "#2a3f5f"
          },
          "geo": {
           "bgcolor": "white",
           "lakecolor": "white",
           "landcolor": "#E5ECF6",
           "showlakes": true,
           "showland": true,
           "subunitcolor": "white"
          },
          "hoverlabel": {
           "align": "left"
          },
          "hovermode": "closest",
          "mapbox": {
           "style": "light"
          },
          "paper_bgcolor": "white",
          "plot_bgcolor": "#E5ECF6",
          "polar": {
           "angularaxis": {
            "gridcolor": "white",
            "linecolor": "white",
            "ticks": ""
           },
           "bgcolor": "#E5ECF6",
           "radialaxis": {
            "gridcolor": "white",
            "linecolor": "white",
            "ticks": ""
           }
          },
          "scene": {
           "xaxis": {
            "backgroundcolor": "#E5ECF6",
            "gridcolor": "white",
            "gridwidth": 2,
            "linecolor": "white",
            "showbackground": true,
            "ticks": "",
            "zerolinecolor": "white"
           },
           "yaxis": {
            "backgroundcolor": "#E5ECF6",
            "gridcolor": "white",
            "gridwidth": 2,
            "linecolor": "white",
            "showbackground": true,
            "ticks": "",
            "zerolinecolor": "white"
           },
           "zaxis": {
            "backgroundcolor": "#E5ECF6",
            "gridcolor": "white",
            "gridwidth": 2,
            "linecolor": "white",
            "showbackground": true,
            "ticks": "",
            "zerolinecolor": "white"
           }
          },
          "shapedefaults": {
           "line": {
            "color": "#2a3f5f"
           }
          },
          "ternary": {
           "aaxis": {
            "gridcolor": "white",
            "linecolor": "white",
            "ticks": ""
           },
           "baxis": {
            "gridcolor": "white",
            "linecolor": "white",
            "ticks": ""
           },
           "bgcolor": "#E5ECF6",
           "caxis": {
            "gridcolor": "white",
            "linecolor": "white",
            "ticks": ""
           }
          },
          "title": {
           "x": 0.05
          },
          "xaxis": {
           "automargin": true,
           "gridcolor": "white",
           "linecolor": "white",
           "ticks": "",
           "title": {
            "standoff": 15
           },
           "zerolinecolor": "white",
           "zerolinewidth": 2
          },
          "yaxis": {
           "automargin": true,
           "gridcolor": "white",
           "linecolor": "white",
           "ticks": "",
           "title": {
            "standoff": 15
           },
           "zerolinecolor": "white",
           "zerolinewidth": 2
          }
         }
        },
        "title": {
         "text": "Share de Buscas por Modelo"
        },
        "xaxis": {
         "anchor": "y",
         "domain": [
          0,
          1
         ],
         "tickformat": "%b-%Y",
         "title": {
          "text": "date"
         }
        },
        "yaxis": {
         "anchor": "x",
         "domain": [
          0,
          1
         ],
         "title": {
          "text": "relative_search"
         }
        }
       }
      }
     },
     "metadata": {},
     "output_type": "display_data"
    }
   ],
   "source": [
    "\n",
    "# Viz - Share\n",
    "fig = px.bar(data_frame=df_monthly, x=\"date\", y=\"relative_search\",\n",
    "             color=\"good\", title=\"Share de Buscas por Modelo\", text_auto=\".2%\")\n",
    "fig.update_xaxes(tickformat=\"%b-%Y\")\n",
    "fig.show()"
   ]
  },
  {
   "cell_type": "code",
   "execution_count": null,
   "metadata": {},
   "outputs": [],
   "source": []
  }
 ],
 "metadata": {
  "kernelspec": {
   "display_name": ".venv",
   "language": "python",
   "name": ".venv"
  },
  "language_info": {
   "codemirror_mode": {
    "name": "ipython",
    "version": 3
   },
   "file_extension": ".py",
   "mimetype": "text/x-python",
   "name": "python",
   "nbconvert_exporter": "python",
   "pygments_lexer": "ipython3",
   "version": "3.11.3"
  }
 },
 "nbformat": 4,
 "nbformat_minor": 2
}
